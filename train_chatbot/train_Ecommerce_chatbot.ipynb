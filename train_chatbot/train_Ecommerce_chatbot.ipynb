{
 "cells": [
  {
   "cell_type": "code",
   "execution_count": 12,
   "metadata": {},
   "outputs": [],
   "source": [
    "import numpy as np\n",
    "\n",
    "import torch"
   ]
  },
  {
   "cell_type": "markdown",
   "metadata": {},
   "source": [
    "Hugging Face Dataset library\n",
    "\n",
    "https://huggingface.co/docs/datasets/v2.14.4/en/index"
   ]
  },
  {
   "cell_type": "code",
   "execution_count": 30,
   "metadata": {},
   "outputs": [
    {
     "name": "stderr",
     "output_type": "stream",
     "text": [
      "Found cached dataset json (C:/Users/User/.cache/huggingface/datasets/json/default-b1a5f79678292222/0.0.0/8bb11242116d547c741b2e8a1f18598ffdd40a1d4f2a2872c7a28b697434bc96)\n"
     ]
    }
   ],
   "source": [
    "from datasets import load_dataset              \n",
    "\n",
    "# Split =\"train\" to make it Dataset object, by default it load as Dataset Dict object\n",
    "encoded_dataset = load_dataset('json', split='train', data_files=\"Dataset/Encoded_Ecommerce_FAQ_Chatbot_dataset.json\")"
   ]
  },
  {
   "cell_type": "code",
   "execution_count": 31,
   "metadata": {},
   "outputs": [
    {
     "data": {
      "text/plain": [
       "Dataset({\n",
       "    features: ['questions', 'input_ids', 'attention_mask', 'labels'],\n",
       "    num_rows: 110\n",
       "})"
      ]
     },
     "execution_count": 31,
     "metadata": {},
     "output_type": "execute_result"
    }
   ],
   "source": [
    "encoded_dataset"
   ]
  },
  {
   "cell_type": "code",
   "execution_count": 32,
   "metadata": {},
   "outputs": [
    {
     "data": {
      "text/plain": [
       "datasets.arrow_dataset.Dataset"
      ]
     },
     "execution_count": 32,
     "metadata": {},
     "output_type": "execute_result"
    }
   ],
   "source": [
    "type(encoded_dataset)"
   ]
  },
  {
   "cell_type": "code",
   "execution_count": 51,
   "metadata": {},
   "outputs": [],
   "source": [
    "# train, validation test split\n",
    "\n",
    "splited_dataset = encoded_dataset.train_test_split(test_size=0.15)"
   ]
  },
  {
   "cell_type": "code",
   "execution_count": 2,
   "metadata": {},
   "outputs": [],
   "source": [
    "# with open(\"Dataset/Encoded_Ecommerce_FAQ_Chatbot_dataset.json\", \"r\", encoding='utf-8') as json_file:\n",
    "#     encoded_dataset = json.load(json_file)\n",
    "\n",
    "# # Convert python list -> numpy array -> pytorch tensor\n",
    "# for key in ['input_ids', 'attention_mask', 'labels']:\n",
    "#     encoded_dataset[key] = torch.tensor(np.array(encoded_dataset[key]))"
   ]
  },
  {
   "cell_type": "code",
   "execution_count": 9,
   "metadata": {},
   "outputs": [
    {
     "data": {
      "text/plain": [
       "Dataset({\n",
       "    features: ['questions', 'input_ids', 'attention_mask', 'labels'],\n",
       "    num_rows: 110\n",
       "})"
      ]
     },
     "execution_count": 9,
     "metadata": {},
     "output_type": "execute_result"
    }
   ],
   "source": [
    "# encoded_dataset['train']"
   ]
  },
  {
   "cell_type": "markdown",
   "metadata": {},
   "source": [
    "Hugging Face Transformer Library documentation\n",
    "\n",
    "https://huggingface.co/docs/transformers/v4.31.0/en/main_classes/trainer#transformers.Trainer"
   ]
  },
  {
   "cell_type": "markdown",
   "metadata": {},
   "source": [
    "dialoGPT model\n",
    "\n",
    "DialoGPT (from Microsoft Research) released with the paper DialoGPT: Large-Scale Generative Pre-training for Conversational Response Generation by Yizhe Zhang, Siqi Sun, Michel Galley, Yen-Chun Chen, Chris Brockett, Xiang Gao, Jianfeng Gao, Jingjing Liu, Bill Dolan.\n",
    "\n",
    "source : https://arxiv.org/abs/1911.00536\n",
    "\n",
    "Microsoft github : https://github.com/microsoft/DialoGPT#retraining-full-models"
   ]
  },
  {
   "cell_type": "code",
   "execution_count": 36,
   "metadata": {},
   "outputs": [],
   "source": [
    "from transformers import AutoTokenizer, AutoModelForCausalLM, Trainer, TrainingArguments, DataCollatorWithPadding"
   ]
  },
  {
   "cell_type": "code",
   "execution_count": 37,
   "metadata": {},
   "outputs": [],
   "source": [
    "model_name = \"microsoft/DialoGPT-large\"\n",
    "# model_name = \"microsoft/DialoGPT-medium\"\n",
    "# model_name = \"microsoft/DialoGPT-small\"\n",
    "tokenizer = AutoTokenizer.from_pretrained(model_name)\n",
    "model = AutoModelForCausalLM.from_pretrained(model_name)"
   ]
  },
  {
   "cell_type": "code",
   "execution_count": 61,
   "metadata": {},
   "outputs": [],
   "source": [
    "tokenizer.pad_token = tokenizer.eos_token"
   ]
  },
  {
   "cell_type": "code",
   "execution_count": 38,
   "metadata": {},
   "outputs": [
    {
     "name": "stdout",
     "output_type": "stream",
     "text": [
      "Maximum token limit for single sentence: 1024\n"
     ]
    }
   ],
   "source": [
    "max_token_limit = tokenizer.max_len_single_sentence\n",
    "print(f\"Maximum token limit for single sentence: {max_token_limit}\")"
   ]
  },
  {
   "cell_type": "markdown",
   "metadata": {},
   "source": [
    "Hugging Face evaluate library\n",
    "\n",
    "https://huggingface.co/docs/evaluate/index"
   ]
  },
  {
   "cell_type": "code",
   "execution_count": 39,
   "metadata": {},
   "outputs": [],
   "source": [
    "import evaluate\n",
    "\n",
    "# perplexity, BLEU score, ROUGE score\n",
    "metric = evaluate.load(\"bleu\")\n",
    "\n",
    "def compute_metrics(eval_pred):\n",
    "    predictions, labels = eval_pred\n",
    "    predictions = predictions[:, 0]\n",
    "    return metric.compute(predictions=predictions, references=labels)"
   ]
  },
  {
   "cell_type": "code",
   "execution_count": 20,
   "metadata": {},
   "outputs": [],
   "source": [
    "# training_args = TrainingArguments(\n",
    "#     output_dir=\"./output\",\n",
    "#     overwrite_output_dir=True,\n",
    "#     num_train_epochs=5,\n",
    "#     per_device_train_batch_size=1,\n",
    "#     save_steps=1000,\n",
    "#     save_total_limit=2,\n",
    "#     optim=\"adamw_torch\"\n",
    "# )"
   ]
  },
  {
   "cell_type": "code",
   "execution_count": 40,
   "metadata": {},
   "outputs": [],
   "source": [
    "# Accumulate gradients over multiple mini-batches before performing a parameter update (i.e., a backward pass and optimization step)\n",
    "gradient_accumulation_steps = 1\n",
    "\n",
    "# logging steps\n",
    "logging_steps = 100\n",
    "\n",
    "# Adjust logging_steps for gradient accumulation\n",
    "logging_steps = logging_steps // gradient_accumulation_steps"
   ]
  },
  {
   "cell_type": "code",
   "execution_count": 41,
   "metadata": {},
   "outputs": [],
   "source": [
    "training_args = TrainingArguments(\n",
    "    output_dir=\"./logs\", # Output fine-tuned model and logs\n",
    "    overwrite_output_dir=True, # Overwrite the output directory if exists\n",
    "    num_train_epochs=5, # Number of training epochs (110 num rows, allow more epoch for less dataset)\n",
    "    per_device_train_batch_size=2, # Batch size for training (number of samples in each batch)\n",
    "    save_steps=500, # Number of steps before saving a checkpoint\n",
    "    save_total_limit=3, # Maximum number of checkpoints to keep\n",
    "    evaluation_strategy=\"steps\", # Evaluate on validation data at specified steps\n",
    "    eval_steps=500, # Evaluate every 500 steps\n",
    "    logging_steps=logging_steps, # Log training information every 100 steps\n",
    "    learning_rate=1e-4, # start with Low learning rate, dialoGPT paper use 1e-5 to 5e-5.\n",
    "    warmup_steps=500, # Warm-up steps for learning rate (helps with stability)\n",
    "    weight_decay=0.01, # Weight decay (L2 regularization) parameter (prevent overfitting)\n",
    "    load_best_model_at_end=True, # Load the best model checkpoint at the end of training, only works when evaluation strategy is steps\n",
    "    metric_for_best_model=\"eval_loss\", # Metric to determine best model\n",
    "    optim=\"adamw_torch\" # Optimizer used for training - Adamw\n",
    ")"
   ]
  },
  {
   "cell_type": "code",
   "execution_count": 42,
   "metadata": {},
   "outputs": [],
   "source": [
    "data_collator_ = DataCollatorWithPadding(tokenizer=tokenizer)"
   ]
  },
  {
   "cell_type": "code",
   "execution_count": 53,
   "metadata": {},
   "outputs": [
    {
     "data": {
      "text/plain": [
       "Dataset({\n",
       "    features: ['questions', 'input_ids', 'attention_mask', 'labels'],\n",
       "    num_rows: 93\n",
       "})"
      ]
     },
     "execution_count": 53,
     "metadata": {},
     "output_type": "execute_result"
    }
   ],
   "source": [
    "splited_dataset['train']"
   ]
  },
  {
   "cell_type": "code",
   "execution_count": 62,
   "metadata": {},
   "outputs": [],
   "source": [
    "trainer = Trainer(\n",
    "    model=model,\n",
    "    args=training_args,\n",
    "    train_dataset=splited_dataset['train'],\n",
    "    eval_dataset=splited_dataset['test'],\n",
    "    tokenizer=tokenizer,\n",
    "    compute_metrics=compute_metrics,\n",
    "    data_collator = data_collator_\n",
    ")"
   ]
  },
  {
   "cell_type": "code",
   "execution_count": 55,
   "metadata": {},
   "outputs": [],
   "source": [
    "torch.cuda.empty_cache()"
   ]
  },
  {
   "cell_type": "code",
   "execution_count": 57,
   "metadata": {},
   "outputs": [
    {
     "name": "stdout",
     "output_type": "stream",
     "text": [
      "input_ids length : 93\n",
      "attention_mask length : 93\n",
      "labels length : 93\n"
     ]
    }
   ],
   "source": [
    "for key in ['input_ids', 'attention_mask', 'labels']:\n",
    "    print(f\"{key} length : {len(splited_dataset['train'][key])}\")"
   ]
  },
  {
   "cell_type": "code",
   "execution_count": 63,
   "metadata": {},
   "outputs": [
    {
     "data": {
      "application/vnd.jupyter.widget-view+json": {
       "model_id": "a9231ac2de64451a90b3983243909994",
       "version_major": 2,
       "version_minor": 0
      },
      "text/plain": [
       "  0%|          | 0/235 [00:00<?, ?it/s]"
      ]
     },
     "metadata": {},
     "output_type": "display_data"
    },
    {
     "data": {
      "application/vnd.jupyter.widget-view+json": {
       "model_id": "57956e25d4fb41d493d3ec1013a77343",
       "version_major": 2,
       "version_minor": 0
      },
      "text/plain": [
       "  0%|          | 0/3 [00:00<?, ?it/s]"
      ]
     },
     "metadata": {},
     "output_type": "display_data"
    }
   ],
   "source": [
    "trainer.train()"
   ]
  },
  {
   "cell_type": "code",
   "execution_count": null,
   "metadata": {},
   "outputs": [],
   "source": [
    "import pandas as pd\n",
    "\n",
    "pd.DataFrame(trainer.state.log_history)"
   ]
  },
  {
   "cell_type": "code",
   "execution_count": null,
   "metadata": {},
   "outputs": [],
   "source": [
    "model.save_pretrained(\"fine_tuned_dialogpt_FAQ_Ecommerce\")\n",
    "# tokenizer.save_pretrained(\"tokenizer\")"
   ]
  }
 ],
 "metadata": {
  "kernelspec": {
   "display_name": "chatterbot_env_python",
   "language": "python",
   "name": "python3"
  },
  "language_info": {
   "codemirror_mode": {
    "name": "ipython",
    "version": 3
   },
   "file_extension": ".py",
   "mimetype": "text/x-python",
   "name": "python",
   "nbconvert_exporter": "python",
   "pygments_lexer": "ipython3",
   "version": "3.7.9"
  },
  "orig_nbformat": 4
 },
 "nbformat": 4,
 "nbformat_minor": 2
}
