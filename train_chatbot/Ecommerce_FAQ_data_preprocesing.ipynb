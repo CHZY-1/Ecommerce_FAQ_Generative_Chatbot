{
 "cells": [
  {
   "cell_type": "code",
   "execution_count": 8,
   "metadata": {},
   "outputs": [],
   "source": [
    "import json\n",
    "import numpy as np"
   ]
  },
  {
   "cell_type": "code",
   "execution_count": 9,
   "metadata": {},
   "outputs": [],
   "source": [
    "from datasets import Dataset"
   ]
  },
  {
   "cell_type": "code",
   "execution_count": 10,
   "metadata": {},
   "outputs": [],
   "source": [
    "from transformers import AutoTokenizer"
   ]
  },
  {
   "cell_type": "code",
   "execution_count": 11,
   "metadata": {},
   "outputs": [
    {
     "data": {
      "text/plain": [
       "'c:\\\\Users\\\\User\\\\Desktop\\\\Github\\\\Chatbot_Web_Application\\\\train_chatbot'"
      ]
     },
     "execution_count": 11,
     "metadata": {},
     "output_type": "execute_result"
    }
   ],
   "source": [
    "import os, sys\n",
    "#list the current work dir\n",
    "os.getcwd()\n",
    "\n",
    "# sys.path is a list of absolute path strings\n",
    "# sys.path.append('C:/Users/User/Desktop/Github/Chatbot_Web_Application')"
   ]
  },
  {
   "cell_type": "code",
   "execution_count": 24,
   "metadata": {},
   "outputs": [],
   "source": [
    "file_path = \"Dataset/Ecommerce_FAQ_Chatbot_dataset.json\"\n",
    "\n",
    "with open(file_path, \"r\", encoding='utf-8') as json_file:\n",
    "            data = json.load(json_file)"
   ]
  },
  {
   "cell_type": "code",
   "execution_count": 25,
   "metadata": {},
   "outputs": [
    {
     "data": {
      "text/plain": [
       "[{'question': 'How can I create an account?',\n",
       "  'answer': \"To create an account, click on the 'Sign Up' button on the top right corner of our website and follow the instructions to complete the registration process.\"},\n",
       " {'question': 'What payment methods do you accept?',\n",
       "  'answer': 'We accept major credit cards, debit cards, and PayPal as payment methods for online orders.'},\n",
       " {'question': 'How can I track my order?',\n",
       "  'answer': \"You can track your order by logging into your account and navigating to the 'Order History' section. There, you will find the tracking information for your shipment.\"},\n",
       " {'question': 'What is your return policy?',\n",
       "  'answer': 'Our return policy allows you to return products within 30 days of purchase for a full refund, provided they are in their original condition and packaging. Please refer to our Returns page for detailed instructions.'},\n",
       " {'question': 'Can I cancel my order?',\n",
       "  'answer': 'You can cancel your order if it has not been shipped yet. Please contact our customer support team with your order details, and we will assist you with the cancellation process.'},\n",
       " {'question': 'How long does shipping take?',\n",
       "  'answer': 'Shipping times vary depending on the destination and the shipping method chosen. Standard shipping usually takes 3-5 business days, while express shipping can take 1-2 business days.'},\n",
       " {'question': 'Do you offer international shipping?',\n",
       "  'answer': 'Yes, we offer international shipping to select countries. The availability and shipping costs will be calculated during the checkout process based on your location.'},\n",
       " {'question': 'What should I do if my package is lost or damaged?',\n",
       "  'answer': 'If your package is lost or damaged during transit, please contact our customer support team immediately. We will initiate an investigation and take the necessary steps to resolve the issue.'},\n",
       " {'question': 'Can I change my shipping address after placing an order?',\n",
       "  'answer': 'If you need to change your shipping address, please contact our customer support team as soon as possible. We will do our best to update the address if the order has not been shipped yet.'},\n",
       " {'question': 'How can I contact customer support?',\n",
       "  'answer': 'You can contact our customer support team by phone at [phone number] or by email at [email address]. Our team is available [working hours] to assist you with any inquiries or issues you may have.'},\n",
       " {'question': 'Do you offer gift wrapping services?',\n",
       "  'answer': 'Yes, we offer gift wrapping services for an additional fee. During the checkout process, you can select the option to add gift wrapping to your order.'},\n",
       " {'question': 'What is your price matching policy?',\n",
       "  'answer': \"We have a price matching policy where we will match the price of an identical product found on a competitor's website. Please contact our customer support team with the details of the product and the competitor's offer.\"},\n",
       " {'question': 'Can I order by phone?',\n",
       "  'answer': 'Unfortunately, we do not accept orders over the phone. Please place your order through our website for a smooth and secure transaction.'},\n",
       " {'question': 'Are my personal and payment details secure?',\n",
       "  'answer': 'Yes, we take the security of your personal and payment details seriously. We use industry-standard encryption and follow strict security protocols to ensure your information is protected.'},\n",
       " {'question': 'What is your price adjustment policy?',\n",
       "  'answer': 'If a product you purchased goes on sale within 7 days of your purchase, we offer a one-time price adjustment. Please contact our customer support team with your order details to request the adjustment.'},\n",
       " {'question': 'Do you have a loyalty program?',\n",
       "  'answer': 'Yes, we have a loyalty program where you can earn points for every purchase. These points can be redeemed for discounts on future orders. Please visit our website to learn more and join the program.'},\n",
       " {'question': 'Can I order without creating an account?',\n",
       "  'answer': 'Yes, you can place an order as a guest without creating an account. However, creating an account offers benefits such as order tracking and easier future purchases.'},\n",
       " {'question': 'Do you offer bulk or wholesale discounts?',\n",
       "  'answer': 'Yes, we offer bulk or wholesale discounts for certain products. Please contact our customer support team or visit our Wholesale page for more information and to discuss your specific requirements.'},\n",
       " {'question': 'Can I change or cancel an item in my order?',\n",
       "  'answer': 'If you need to change or cancel an item in your order, please contact our customer support team as soon as possible. We will assist you with the necessary steps.'},\n",
       " {'question': 'How can I leave a product review?',\n",
       "  'answer': \"To leave a product review, navigate to the product page on our website and click on the 'Write a Review' button. You can share your feedback and rating based on your experience with the product.\"},\n",
       " {'question': 'Can I use multiple promo codes on a single order?',\n",
       "  'answer': 'Usually, only one promo code can be applied per order. During the checkout process, enter the promo code in the designated field to apply the discount to your order.'},\n",
       " {'question': 'What should I do if I receive the wrong item?',\n",
       "  'answer': 'If you receive the wrong item in your order, please contact our customer support team immediately. We will arrange for the correct item to be shipped to you and assist with returning the wrong item.'},\n",
       " {'question': 'Do you offer expedited shipping?',\n",
       "  'answer': 'Yes, we offer expedited shipping options for faster delivery. During the checkout process, you can select the desired expedited shipping method.'},\n",
       " {'question': 'Can I order a product that is out of stock?',\n",
       "  'answer': 'If a product is currently out of stock, you will usually see an option to sign up for product notifications. This way, you will be alerted when the product becomes available again.'},\n",
       " {'question': 'What is your email newsletter about?',\n",
       "  'answer': 'Our email newsletter provides updates on new product releases, exclusive offers, and helpful tips related to our products. You can subscribe to our newsletter on our website.'},\n",
       " {'question': 'Can I return a product if I changed my mind?',\n",
       "  'answer': 'Yes, you can return a product if you changed your mind. Please ensure the product is in its original condition and packaging, and refer to our return policy for instructions.'},\n",
       " {'question': 'Do you offer live chat support?',\n",
       "  'answer': 'Yes, we offer live chat support on our website during our business hours. Look for the chat icon in the bottom right corner to initiate a chat with our customer support team.'},\n",
       " {'question': 'Can I order a product as a gift?',\n",
       "  'answer': \"Yes, you can order a product as a gift and have it shipped directly to the recipient. During the checkout process, you can enter the recipient's shipping address.\"},\n",
       " {'question': 'What should I do if my discount code is not working?',\n",
       "  'answer': 'If your discount code is not working, please double-check the terms and conditions associated with the code. If the issue persists, contact our customer support team for assistance.'},\n",
       " {'question': 'Can I return a product if it was a final sale item?',\n",
       "  'answer': 'Final sale items are usually non-returnable and non-refundable. Please review the product description or contact our customer support team to confirm the return eligibility for specific items.'},\n",
       " {'question': 'Do you offer installation services for your products?',\n",
       "  'answer': 'Installation services are available for select products. Please check the product description or contact our customer support team for more information and to request installation services.'},\n",
       " {'question': 'Can I order a product that is discontinued?',\n",
       "  'answer': 'Discontinued products are no longer available for purchase. We recommend exploring alternative products on our website.'},\n",
       " {'question': 'Can I return a product without a receipt?',\n",
       "  'answer': 'A receipt or proof of purchase is usually required for returns. Please refer to our return policy or contact our customer support team for assistance.'},\n",
       " {'question': 'Can I order a product for delivery to a different country?',\n",
       "  'answer': 'Yes, we offer international shipping to select countries. Please review the available shipping destinations during checkout or contact our customer support for assistance.'},\n",
       " {'question': 'Can I add a gift message to my order?',\n",
       "  'answer': 'Yes, you can add a gift message during the checkout process. There is usually a section where you can enter your personalized message.'},\n",
       " {'question': 'Can I request a product demonstration before making a purchase?',\n",
       "  'answer': 'We do not currently offer product demonstrations before purchase. However, you can find detailed product descriptions, specifications, and customer reviews on our website.'},\n",
       " {'question': \"Can I order a product that is listed as 'coming soon'?\",\n",
       "  'answer': \"Products listed as 'coming soon' are not available for immediate purchase. Please sign up for notifications to be informed when the product becomes available.\"},\n",
       " {'question': 'Can I request an invoice for my order?',\n",
       "  'answer': 'Yes, an invoice is usually included with your order. If you require a separate invoice, please contact our customer support team with your order details.'},\n",
       " {'question': \"Can I order a product that is labeled as 'limited edition'?\",\n",
       "  'answer': \"'Limited edition' products may have restricted availability. We recommend placing an order as soon as possible to secure your item.\"},\n",
       " {'question': 'Can I return a product if I no longer have the original packaging?',\n",
       "  'answer': 'While returning a product in its original packaging is preferred, you can still initiate a return without it. Contact our customer support team for guidance in such cases.'},\n",
       " {'question': 'Can I request a product that is currently out of stock to be reserved for me?',\n",
       "  'answer': 'We do not offer reservations for out-of-stock products. However, you can sign up for product notifications to be alerted when it becomes available again.'},\n",
       " {'question': \"Can I order a product that is listed as 'pre-order' with other in-stock items?\",\n",
       "  'answer': 'Yes, you can place an order with a mix of pre-order and in-stock items. However, please note that the entire order will be shipped once all items are available.'},\n",
       " {'question': 'Can I return a product if it was damaged during shipping?',\n",
       "  'answer': 'If your product was damaged during shipping, please contact our customer support team immediately. We will guide you through the return and replacement process.'},\n",
       " {'question': 'Can I request a product that is out of stock to be restocked?',\n",
       "  'answer': 'We strive to restock popular products whenever possible. Please sign up for product notifications to be informed when the item becomes available again.'},\n",
       " {'question': \"Can I order a product if it is listed as 'backordered'?\",\n",
       "  'answer': \"Products listed as 'backordered' are temporarily out of stock but can still be ordered. Your order will be fulfilled once the product is restocked.\"},\n",
       " {'question': 'Can I return a product if it was purchased during a sale or with a discount?',\n",
       "  'answer': 'Yes, you can return a product purchased during a sale or with a discount. The refund will be processed based on the amount paid after the discount.'},\n",
       " {'question': 'Can I request a product repair or replacement if it is damaged?',\n",
       "  'answer': 'If you receive a damaged product, please contact our customer support team immediately. We will assist you with the necessary steps for repair or replacement.'},\n",
       " {'question': \"Can I order a product if it is listed as 'out of stock' but available for pre-order?\",\n",
       "  'answer': 'If a product is available for pre-order, you can place an order to secure your item. The product will be shipped once it becomes available.'},\n",
       " {'question': 'Can I return a product if it was purchased as a gift?',\n",
       "  'answer': 'Yes, you can return a product purchased as a gift. However, refunds will typically be issued to the original payment method used for the purchase.'},\n",
       " {'question': \"Can I request a product if it is listed as 'discontinued'?\",\n",
       "  'answer': \"Unfortunately, if a product is listed as 'discontinued,' it is no longer available for purchase. We recommend exploring alternative products on our website.\"},\n",
       " {'question': \"Can I order a product if it is listed as 'sold out'?\",\n",
       "  'answer': \"If a product is listed as 'sold out,' it is currently unavailable for purchase. Please check back later or sign up for notifications when it becomes available again.\"},\n",
       " {'question': 'Can I return a product if it was purchased with a gift card?',\n",
       "  'answer': 'Yes, you can return a product purchased with a gift card. The refund will be issued in the form of store credit or a new gift card.'},\n",
       " {'question': 'Can I request a product if it is not currently available in my size?',\n",
       "  'answer': 'If a product is not available in your size, it may be temporarily out of stock. Please check back later or sign up for size notifications.'},\n",
       " {'question': \"Can I order a product if it is listed as 'coming soon' but available for pre-order?\",\n",
       "  'answer': \"If a product is listed as 'coming soon' and available for pre-order, you can place an order to secure your item before it becomes available.\"},\n",
       " {'question': 'Can I return a product if it was purchased with a discount code?',\n",
       "  'answer': 'Yes, you can return a product purchased with a discount code. The refund will be processed based on the amount paid after the discount.'},\n",
       " {'question': 'Can I request a custom order or personalized product?',\n",
       "  'answer': 'We do not currently offer custom orders or personalized products. Please explore the available products on our website.'},\n",
       " {'question': \"Can I order a product if it is listed as 'temporarily unavailable'?\",\n",
       "  'answer': \"If a product is listed as 'temporarily unavailable,' it is out of stock but may be restocked in the future. Please check back later or sign up for notifications.\"},\n",
       " {'question': 'Can I return a product if it was damaged due to improper use?',\n",
       "  'answer': 'Our return policy generally covers products that are defective or damaged upon arrival. Damage due to improper use may not be eligible for a return. Please contact our customer support team for assistance.'},\n",
       " {'question': \"Can I request a product if it is listed as 'coming soon' but not available for pre-order?\",\n",
       "  'answer': \"If a product is listed as 'coming soon' but not available for pre-order, you will need to wait until it is officially released and becomes available for purchase.\"},\n",
       " {'question': \"Can I order a product if it is listed as 'on hold'?\",\n",
       "  'answer': \"If a product is listed as 'on hold,' it is temporarily unavailable for purchase. Please check back later or sign up for notifications when it becomes available.\"},\n",
       " {'question': 'Can I return a product if I no longer have the original receipt?',\n",
       "  'answer': 'While a receipt is preferred for returns, we may be able to assist you without it. Please contact our customer support team for further guidance.'},\n",
       " {'question': \"Can I request a product that is listed as 'limited edition' to be restocked?\",\n",
       "  'answer': 'Once a limited edition product is sold out, it may not be restocked. Limited edition items are available for a limited time only, so we recommend purchasing them while they are available.'},\n",
       " {'question': \"Can I order a product if it is listed as 'discontinued' but still visible on the website?\",\n",
       "  'answer': \"If a product is listed as 'discontinued' but still visible on the website, it may be an error. Please contact our customer support team for clarification.\"},\n",
       " {'question': 'Can I return a product if it was a clearance or final sale item?',\n",
       "  'answer': 'Clearance or final sale items are typically non-returnable and non-refundable. Please review the product description or contact our customer support team for more information.'},\n",
       " {'question': 'Can I request a product if it is not listed on your website?',\n",
       "  'answer': 'If a product is not listed on our website, it may not be available for purchase. We recommend exploring the available products or contacting our customer support team for further assistance.'},\n",
       " {'question': \"Can I order a product if it is listed as 'out of stock' but available for backorder?\",\n",
       "  'answer': \"If a product is listed as 'out of stock' but available for backorder, you can place an order to secure your item. The product will be shipped once it becomes available.\"},\n",
       " {'question': 'Can I return a product if it was purchased as part of a bundle or set?',\n",
       "  'answer': 'If a product was purchased as part of a bundle or set, the return policy may vary. Please refer to the specific terms and conditions or contact our customer support team for further guidance.'},\n",
       " {'question': \"Can I request a product that is listed as 'out of stock' to be restocked?\",\n",
       "  'answer': 'We aim to restock popular products whenever possible. Please sign up for product notifications to be alerted when the item becomes available again.'},\n",
       " {'question': \"Can I order a product if it is listed as 'coming soon' and available for pre-order?\",\n",
       "  'answer': \"If a product is listed as 'coming soon' and available for pre-order, you can place an order to secure your item before it becomes available.\"},\n",
       " {'question': 'Can I return a product if it was damaged due to mishandling during shipping?',\n",
       "  'answer': 'If your product was damaged due to mishandling during shipping, please contact our customer support team immediately. We will assist you with the necessary steps for return and replacement.'},\n",
       " {'question': \"Can I request a product that is listed as 'out of stock' to be reserved for me?\",\n",
       "  'answer': 'We do not offer reservations for out-of-stock products. However, you can sign up for product notifications to be alerted when the item becomes available again.'},\n",
       " {'question': \"Can I order a product if it is listed as 'pre-order' but available for backorder?\",\n",
       "  'answer': \"If a product is listed as 'pre-order' and available for backorder, you can place an order to secure your item. The product will be shipped once it becomes available.\"},\n",
       " {'question': 'Can I return a product if it was purchased with store credit?',\n",
       "  'answer': 'Yes, you can return a product purchased with store credit. The refund will be issued in the form of store credit, which you can use for future purchases.'},\n",
       " {'question': 'Can I request a product that is currently out of stock to be restocked?',\n",
       "  'answer': 'We strive to restock popular products whenever possible. Please sign up for product notifications to be informed when the item becomes available again.'},\n",
       " {'question': \"Can I order a product if it is listed as 'sold out' but available for pre-order?\",\n",
       "  'answer': \"If a product is listed as 'sold out' but available for pre-order, you can place an order to secure your item. The product will be shipped once it becomes available.\"},\n",
       " {'question': 'Can I return a product if it was purchased with a promotional gift card?',\n",
       "  'answer': 'Yes, you can return a product purchased with a promotional gift card. The refund will be issued in the form of store credit or a new gift card.'},\n",
       " {'question': 'Can I request a product if it is not currently available in my preferred color?',\n",
       "  'answer': 'If a product is not available in your preferred color, it may be temporarily out of stock. Please check back later or sign up for color notifications.'},\n",
       " {'question': \"Can I order a product if it is listed as 'coming soon' and not available for pre-order?\",\n",
       "  'answer': \"If a product is listed as 'coming soon' but not available for pre-order, you will need to wait until it is officially released and becomes available for purchase.\"},\n",
       " {'question': 'Can I return a product if it was purchased during a promotional event?',\n",
       "  'answer': 'Yes, you can return a product purchased during a promotional event. The refund will be processed based on the amount paid after any applicable discounts.'},\n",
       " {'question': 'How many pendrive do you have?',\n",
       "  'answer': 'These are the pendrives we have : DataTraveler 70 USB Flash Drive USB-C Flash Drive , DataTraveler 80 M USB-C Flash Drive USB Type-C1 storage on-the-go, DataTraveler Exodia M USB flash drive with moving cap in multiple colours, DataTraveler Exodia Onyx USB Flash Drive with sleek moving cap, DataTraveler Exodia USB Flash Drive with Protective Cap and Keyring in Multiple Colours, DataTraveler Kyson USB Flash Drive with Stylish Capless Metal Case, DataTraveler Max USB 3.2 Gen 2 Series Flash Drive Available in USB-C or USB-A, DataTraveler Micro USB Flash Drive with Ultra-Small Premium Metal Design, DataTraveler microDuo 3C USB Flash Drive USB Type-C and Type-A Flash Drive, DT4000G2 Encrypted USB Flash Drive FIPS 140-2 Level 3 Certified, Kingston IronKey D300S Encrypted USB Flash Drive FIPS 140-2 Level 3 Certified, Kingston IronKey Keypad 200 Series FIPS 140-3 Level 3 (Pending) with XTS-AES 256-bit Hardware Encryption, Kingston IronKey Locker+ 50 USB Flash Drive XTS-AES Encrypted for Data Protection with Automatic USBtoCloud Back Up, Kingston IronKey S1000 Encrypted USB Flash Drive On-Device Cryptochip and FIPS 140-2 Level 3 Certified, Kingston IronKey Vault Privacy 50 Series FIPS 197 Certified & XTS-AES 256-bit Encrypted USB Drive for Data Protection'},\n",
       " {'question': 'Tell me the description for DataTraveler 70 USB Flash Drive USB-C Flash Drive',\n",
       "  'answer': 'Kingston’s DataTraveler 70 is a USB 3.2 Gen 1 compliant portable, lightweight USB-C1 flash drive. It’s designed to be used with compatible USB-C devices such as notebooks, laptops, tablets and phones. With capacities of up to 256GB2, the DataTraveler 70 is more than capable of expanding your storage for everyday use. It comes backed with a 5-year warranty and free tech support.'},\n",
       " {'question': 'Tell me the description for DataTraveler 80 M USB-C Flash DriveUSB Type-C1 storage on-the-go',\n",
       "  'answer': 'Kingston DataTraveler 80 M is a high-performance flash drive designed to work with USB Type-C1 laptops, desktops, smartphones and tablets without the need for an adapter. With extremely fast read speeds of up to 200MB/s2, the DataTraveler 80 M allows for quick and convenient storage and file transfers. The compact, moving cap design features a key ring loop, making it ideal for on-the-go storage.'},\n",
       " {'question': 'Tell me the description for DataTraveler Exodia M USB flash drive with moving cap in multiple colours',\n",
       "  'answer': 'Kingston DataTraveler Exodia M is a USB 3.2 Gen 1 compliant storage solution for laptops, desktop PCs, monitors and other digital devices. DT Exodia M allows quick transfers and convenient storage of documents, music, videos and more. It’s available in multiple stylish colour options that correspond to capacities of up to 256GB1. Its practical design makes it an ideal on-the-go storage solution whether at work, home or school. DT Exodia M is backed by a five-year warranty, free technical support and legendary Kingston reliability.'},\n",
       " {'question': 'Tell me the description for DataTraveler microDuo 3C USB Flash Drive USB Type-C and Type-A Flash Drive',\n",
       "  'answer': ' DataTraveler microDuo™ 3C has a dual interface that works with both newer USB Type-C1 and traditional USB Type-A ports. It’s an ideal way to free up space on your smartphone or tablet with up to 256GB2 of extra storage for your photos and videos. The eye-catching form factor offers convenient plug and play connectivity. Transfer files quickly between your devices with USB 3.2 Gen 1 speeds of up to 200MB/s read3. Whether you’re on-the-go (OTG4) for work, travel or just out capturing the moments, the DT microDuo 3C is the perfect compact companion to backup, store more, and take everywhere you go.'},\n",
       " {'question': 'Tell me the description for DataTraveler Exodia Onyx USB Flash Drive with sleek moving cap',\n",
       "  'answer': 'Kingston DataTraveler Exodia™ Onyx is a USB 3.2 Gen 1 compliant1 flash drive that delivers quick transfers for simple and easy storage. Designed with a sleek matt black casing, the DT Exodia Onyx is the perfect affordable companion for stylish storage. The drive is available in capacities of up to 256GB2.'},\n",
       " {'question': 'Tell me the description for DataTraveler Exodia USB Flash Drive with Protective Cap and Keyring in Multiple Colours',\n",
       "  'answer': 'Kingston’s DataTraveler Exodia™ is a USB 3.2 Gen 1 compliant storage solution for laptops, desktop PCs, monitors and other digital devices. DT Exodia allows quick transfers and convenient storage of documents, music, videos and more. Its practical design and fashionable colours make it ideal for everyday use at work, home, school or wherever you need to take your data. DT Exodia is available in capacities up to 256GB1 and is backed by a five-year warranty, free technical support and legendary Kingston reliability.'},\n",
       " {'question': 'Tell me the description for DataTraveler Kyson USB Flash Drive with Stylish Capless Metal Case',\n",
       "  'answer': 'Kingston’s DataTraveler Kyson is a high-performance Type-A USB flash drive with extremely fast transfer speeds of up to 200MB/s Read and 60MB/s Write1, allowing quick and convenient file transfers. With up to 256GB2 of storage, you can store and share photos, videos, music and other content on the go. The capless metal design will save you the trouble of losing a cap, and the functional loop makes it easy to be taken wherever you go.'},\n",
       " {'question': 'Tell me the description for DataTraveler Max USB 3.2 Gen 2 Series Flash Drive Available in USB-C or USB-A',\n",
       "  'answer': 'Kingston’s DataTraveler Max series USB flash drives leverage the latest USB 3.2 Gen 2 standard to deliver record-breaking read/write speeds up to 1,000/900MB/s1. Designed with portability and convenience in mind, the unique ridged casing protects the connector when not in use and is easily moved with a single motion. Available in USB Type-C2 and Type-A connections to support next-gen and traditional laptops and desktops. The DT Max series delivers premium performance and expanded capacities up to 1TB3 making them the ideal solution for transferring and storing large digital files such as HD photos, 4K/8K videos, music and more. Both the Type-C and Type-A connector varieties in the DT Max series are backed by a limited five-year warranty, free technical support and legendary Kingston reliability.'},\n",
       " {'question': 'Tell me the description for DataTraveler Micro USB Flash Drive with Ultra-Small Premium Metal Design',\n",
       "  'answer': 'DataTraveler Micro is an ultra-small, lightweight USB drive ideal for convenient plug-and-stay storage that’s compatible with computers, printers, gaming consoles and more. The drive is designed with a low-profile, premium metal casing and built-in key loop to leave in USB ports without interference. DT Micro delivers USB 3.2 Gen 1 speeds up to 200MB/s read1 and up to 256GB2 capacities to quickly transfer and store large files such as movies, music, games and photos.'},\n",
       " {'question': 'Tell me the description for Tell me the description for DT4000G2 Encrypted USB Flash Drive FIPS 140-2 Level 3 Certified',\n",
       "  'answer': 'Kingston’s DataTraveler 4000G2 with Management offers affordable business-grade security with 256-bit AES hardware-based encryption in XTS mode, to safeguard 100 per cent of confidential data. For added peace of mind, the drive enforces complex password protection and locks down and reformats after 10 intrusion attempts. DT4000G2DM features Optional SafeConsole1 Management that enables a complete set of management tools. DataTraveler 4000G2DM is FIPS 140-2 Level 3 certified and TAA-compliant, and it’s customisable to meet specific organisational needs.'},\n",
       " {'question': 'Tell me the description for Tell me the description for Kingston IronKey D300S Encrypted USB Flash Drive FIPS 140-2 Level 3 Certified',\n",
       "  'answer': 'The Kingston IronKey™ D300S/SM USB flash drive features an advanced level of security which builds on the features that made IronKey well respected, to safeguard sensitive information. It’s FIPS 140-2 Level 3 certified, with 256-bit AES hardware-based encryption in XTS mode. An essential pillar to setting security standards, corporate policies and data loss protection (DLP) best practices. An important element in the quest for compliance with industry standards and global regulations such as the GDPR.'},\n",
       " {'question': 'Tell me the description for Kingston IronKey Keypad 200 Series FIPS 140-3 Level 3 (Pending) with XTS-AES 256-bit Hardware Encryption',\n",
       "  'answer': 'The Kingston IronKey™ Keypad 200 series are OS-independent, hardware-encrypted USB Type-A and USB Type-C1 drives with an alphanumeric keypad for easy-to-use PIN access. The KP200 incorporates XTS-AES 256-bit hardware-based encryption. It also is FIPS 140-3 Level 3 (Pending) certified for military-grade security with enhancements that further raise the bar for data protection. Its circuitry is covered by a layer of special epoxy that makes it virtually impossible to remove components without damaging them; this tough epoxy stops attacks against the semiconductor components. The drive is designed to be tamper evident to alert owners. It also incorporates brute force password attack protection, and BadUSB protection with digitally signed firmware. The alphanumeric keypad is coated with a layer of polymer that protects the keys and hides key usage through analysis of fingerprints on the keys. KP200 series utilises a built-in rechargeable battery that can be used to unlock the drive first without using any software, and then plug it into any device that supports USB Type-A or USB Type-C mass storage devices. This gives users the most flexibility across different platform types and operating systems. With the Multi-PIN option (Admin/User), the keypad can be used to set up an easy-to-remember but hard-to guess alphanumeric PIN for the Admin or User accounts. Admin can restore a User PIN and provide access to the drive should the User PIN be forgotten, or if the drive is locked after reaching the maximum of 10 User login attempts. With both Admin and User PINs enabled, KP200 will lock the User PIN after 10 failed login attempts; if the Admin PIN is entered incorrectly 10 times in a row, brute force attack protection will crypto-erase the drive, destroy the data forever, and reset it.The drive also provides two levels of Read-Only (or Write-Protect) modes – a Global mode that can be set by Admin, and a session-only mode that can be set by User. Read-Only modes can protect the drive from malware on untrusted systems. In addition, Admin can load content and set Global Read-Only mode, so that User can access the data but not make any changes.'},\n",
       " {'question': 'Tell me the description for Kingston IronKey Locker+ 50 USB Flash Drive XTS-AES Encrypted for Data Protection with Automatic USBtoCloud Back Up',\n",
       "  'answer': 'Kingston IronKey™ Locker+ 50 USB Flash drives provide consumer-grade security with AES hardware-encryption in XTS mode, including safeguards against BadUSB with digitally-signed firmware and Brute Force password attacks. LP50 is also TAA compliant.LP50 now supports multi-password (Admin and User) option with Complex or Passphrase modes. Complex mode allows for passwords from 6-16 characters using 3 out of 4 character sets. New passphrase mode allows for a numeric PIN, sentence, list of words or even lyrics from 10 to 64 characters long. Admin can enable a User password, or reset the User password to restore access to data. To aid in password entry, the “eye” symbol can be enabled to reveal the typed in password, reducing typos leading to failed login attempts. Brute Force attack protection locks out User upon 10 invalid password entries in a row and crypto-erases the drive if the Admin password is entered incorrectly 10 times in a row. Additionally, a built-in virtual keyboard shields passwords from keyloggers or screenloggers. Locker+ 50 is designed for convenience with a small metal casing and built-in key loop to take data anywhere. LP50 also features optional USBtoCloud (by ClevX) backup to access data on the drive from your personal cloud storage through Google Drive™, OneDrive (Microsoft), Amazon Cloud Drive, Dropbox™ or Box. LP50 is easy for anyone to setup and use, with no application installation required; all the software and security needed is already on the drive. Works on both Windows and macOS so users can access files from multiple systems.'},\n",
       " {'question': 'Tell me the description for Kingston IronKey S1000 Encrypted USB Flash Drive On-Device Cryptochip and FIPS 140-2 Level 3 Certified',\n",
       "  'answer': 'Kingston IronKey™ S1000 meets the strictest standards to make it the ultimate security drive. Safeguard 100 percent of confidential data with 256-bit AES hardware-based encryption, in XTS mode, and FIPS 140-2 Level 3 validation with on-device Cryptochip Encryption Key management. The drive detects and responds to physical tampering and provides automatic data protection upon drive removal. For added peace of mind, the drive uses digitally-signed firmware making it immune to BadUSB. S1000 allows for two passphrase types: either a complex password or a passphrase up to 255 characters long. After ten invalid password attempts, the drive locks down with the option to reformat or destroy it.'},\n",
       " {'question': 'Tell me the description for Kingston IronKey Vault Privacy 50 Series FIPS 197 Certified & XTS-AES 256-bit Encrypted USB Drive for Data Protection',\n",
       "  'answer': 'Kingston IronKey™ Vault Privacy 50 series are premium USB Type-A and USB Type-C1 drives that provide enterprise-grade security with FIPS 197 certified AES 256-bit hardware-encryption in XTS mode, including safeguards against BadUSB with digitally-signed firmware and against brute force password attacks. VP50 has been penetration tested2 (pen tested) for enterprise-grade security. Because it provides encrypted storage under the user’s physical control, the VP50 series is superior to using the internet and cloud services to safeguard data. Vault Privacy 50 supports multi-password options (Admin, User and One-Time Recovery) with Complex or Passphrase modes. This enhances the ability to recover access to the data if one of the passwords is forgotten. Traditional Complex mode allows for passwords from 6-16 characters using 3 out of 4 character sets. The new Passphrase mode allows for a numeric PIN, sentence, list of words or even lyrics from 10 to 64 characters long. Admin can enable a User and a One-Time Recovery password, or reset the User password to restore data access. To aid in password entry, the “eye” symbol can be enabled to reveal the typed-in password, reducing typos that lead to failed login attempts. Brute force attack protection locks out User or One-Time Recovery passwords if 10 invalid passwords are entered in a row, and crypto-erases the drive if the Admin password is entered incorrectly 10 times in a row.To protect against potential malware on untrusted systems, both Admin and User can set Read-Only mode to write-protect the drive; additionally, the built-in virtual keyboard shields passwords from keyloggers or screenloggers.Organisations can customise and configure VP50 series drives with a product ID (PID) for integration with standard endpoint management software to meet corporate IT and cybersecurity requirement through Kingston’s Customisation Programme.Small and medium businesses can use the Admin role to locally manage their drives, e.g. use Admin to configure or reset employee User or One-Time Recovery passwords, recover data access on locked drives and comply with laws and regulations when forensics are required.Vault Privacy 50 is waterproof with IPX8 rating3, TAA compliant and assembled in the USA.'},\n",
       " {'question': 'Tell me the specification for DataTraveler 70 USB Flash Drive USB-C Flash Drive',\n",
       "  'answer': 'Capacities : 64GB 128GB 256GB, Dimensions :59.00mm x 18.50mm x 9.00mm, Weight : 7g, Operating temperature : 0°C~60°C, Storage temperature : -20°C~85°C, Warranty/support : 5-year warranty with free technical support, Compatible with : Windows 11/10/8.1 macOS (v. 10.15.x +) Linux (v. 4.4.x +) Chrome OS™'},\n",
       " {'question': 'Tell me the specification for DataTraveler 80 M USB-C Flash Drive USB Type-C1 storage on-the-go',\n",
       "  'answer': 'Capacities : 64GB 128GB 256GB, Interface :USB 3.2 Gen 1, Speed : Up to 200MB/s read,  Dimensions: 54.18mm x 21.81mm x 11.60mm , Weight : 6g, Operating temperature : 0°C~60°C, Storage temperature : -20°C~85°C, Warranty/support : 5-year warranty with free technical support, Compatible with : Windows 11/10/8.1 macOS (v. 10.15.x +) Linux (v. 4.4.x +) Chrome OS™'},\n",
       " {'question': 'Tell me the specification for DataTraveler Exodia M USB flash drive with moving cap in multiple colours',\n",
       "  'answer': 'Capacities :64GB 128GB 256GB, Speed: USB 3.2 Gen 1 compliant, Dimensions:67.4mm x 21.8mm x 11.6mm, Weight : 10g, Operating temperature : 0°C~60°C, Storage temperature : -20°C~85°, Warranty :5-year warranty, free technical support, Compatible with: Windows 11 10 macOS (v.10.15.x +) Linux (v. 4.4 +) Chrome OS™'},\n",
       " {'question': 'Tell me the specification for DataTraveler Exodia Onyx USB Flash Drive with sleek moving cap',\n",
       "  'answer': 'Capacities: 64GB 128GB 256GB, Speed : USB 3.2 Gen 1 compliant, Dimensions: 60.7mm x 21mm x 10.2mm, Weight : 8g, Operating temperature : 0°C~60°C, Storage temperature:-20°C~85°C , Warranty: 5-year warranty, free technical support, Compatible with: Windows 11 10 macOS (v.10.15.x +) Linux (v. 4.4 +) Chrome OS'},\n",
       " {'question': 'Tell me the specification for DataTraveler Exodia USB Flash Drive with Protective Cap and Keyring in Multiple Colours',\n",
       "  'answer': 'Capacities: 32GB 64GB 128GB 256GB, Speed: USB 3.2 Gen 1 compliant, Dimensions:67.3mm x 21.04mm x 10.14mm, Weight:11g, Operating temperature:0°C~60°C, Storage temperature:-20°C~85°C, Warranty:5-year warranty with free technical support, Compatible with:Windows 11 10 macOS (v. 10.15.x +)  Linux (v. 4.4 +) Chrome OS'},\n",
       " {'question': 'Tell me the specification for DataTraveler Kyson USB Flash Drive with Stylish Capless Metal Case',\n",
       "  'answer': 'Capacities:32GB 64GB 128GB 256GB ,Speed:USB 3.2 Gen 1 speeds 32GB-64GB: 200MB/s read 128GB-256GB: 200MB/s read 60MB/s write, Dimensions:39mm x 12.6mm x 4.9mm, Weight:4g, Operating temperature:0°C~60°C, Storage temperature:-20°C~85°C, Warranty/support:5-year warranty with free technical support, Compatible with:Windows 10 8.1 8 Mac OS (v.10.10.x +) Linux (v. 2.6.x +) Chrome OS'},\n",
       " {'question': 'Tell me the specification for DataTraveler Max USB 3.2 Gen 2 Series Flash Drive Available in USB-C® or USB-A',\n",
       "  'answer': 'Capacities: 256GB 512GB 1TB, Interface:USB 3.2 Gen 2, Speed:Up to 1,000MB/s read 900MB/s write, Dimensions: Type-C: 82.17 mm x 22.00 mm x 9.02 mm Type-A: 91.17 mm x 22.00 mm x 9.02 mm Weight: Type-C: 12g Type-A: 14g, Operating temperature:0°C~60°C, Storage temperature: -20°C~85°C, Warranty/support: 5-year warranty with free technical support, Compatible with: Windows® 11 10 8.1 macOS® (v. 10.14.x +) Linux (v. 2.6.x +) Chrome OS™'},\n",
       " {'question': 'Tell me the specification for DataTraveler Micro USB Flash Drive with Ultra-Small Premium Metal Design',\n",
       "  'answer': 'Capacities:64GB 128GB 256GB, Speed:USB 3.2 Gen 1, 200MB/s Read, Dimensions:24.95mm x 12.2mm x 4.5mm, Operating temperature:0°C~60°C, Storage temperature:-20°C~85°C, Warranty/support: Five-year warranty free technical support, Compatible with:Windows® 11 10 8.1 macOS® (v.10.14.x +) Linux (v. 2.6.x +) Chrome OS™'},\n",
       " {'question': 'Tell me the specification for DataTraveler microDuo 3C USB Flash Drive USB Type-C and Type-A Flash Drive',\n",
       "  'answer': 'Capacities:64GB 128GB 256GB, Speed:USB 3.2 Gen 1, Dimensions: 29.94mm x 16.60mm x 8.44mm, Operating temperature :0 °C-60 °C, Storage temperature -20 °C-85 °C, Warranty/support :Five-year warranty free technical support, Compatible with:Windows® 11 10 8.1 macOS® (v.10.14.x +) Linux (v. 2.6.x +) Chrome OS™'},\n",
       " {'question': 'Tell me the specification for DT4000G2 Encrypted USB Flash Drive FIPS 140-2 Level 3 Certified',\n",
       "  'answer': 'Interface: USB 3.0, Capacities: 8GB 16GB 32GB 64GB 128GB, Speed: USB 3.0 8GB - 16GB: 165MB/s read 22MB/s write 32GB: 250MB/s read 40MB/s write 64GB – 128GB: 250MB/s read 85MB/s write USB 2.0: 8GB - 128GB: 30MB/s read 20MB/s write, Dimensions: 77.9 mm x 22.2 mm x 12.05 mm, Waterproof: Up to 4 ft. conforms to IEC 60529 IPX8. Product must be clean and dry before use, Operating Temperature: 0°C to 60°C, Storage Temperature: -20°C to 85°C, Compatibility: USB 3.0 compliant and 2.0 compatible, Minimum System Requirements: USB 3.0 compliant and 2.0 compatible, Two (2) free drive letters required for use, Compatible with: Windows® 10 Windows 8.1 Windows 8 macOS v.10.12.x – 10.15.x,,Warranty/support: 5-year warranty, free technical support'},\n",
       " {'question': 'Tell me the specification for Kingston IronKey D300S Encrypted USB Flash Drive FIPS 140-2 Level 3 Certified',\n",
       "  'answer': 'Interface: USB 3.1 Gen 1, Capacities: 8GB 16GB 32GB 64GB 128GB, Speed: USB 3.1 Gen 1 - 8GB & 16GB: 165MB/s read 22MB/s write 32GB: 250MB/s read 40MB/s write 64GB: 250MB/s read 85MB/s write 128GB: 250MB/s read 85MB/s write USB 2.0 - 8GB-128GB: 30MB/s read 20MB/s write, Dimensions: 77.9 mm x 22.2 mm x 12.05 mm, Waterproof: Up to 4 ft. conforms to IEC 60529 IPX8. Product must be clean and dry before use, Operating temperature: 0°C to 60°C, Storage temperature: -20°C to 85°C, Compatibility: USB 3.0 compliant and 2.0 compatible, Standard drive – compatible with :Windows® 11 10 8.1 macOS (v.10.14.x – 13.x.x) Linux v.2.6x+7 Managed drive – compatible with Windows® 11 10 8.1 macOS (v.10.14.x – 13.x.x), Warranty/support: 5-year warranty, free technical support.'},\n",
       " {'question': 'Tell me the specification for Kingston IronKey Keypad 200 Series FIPS 140-3 Level 3 (Pending) with XTS-AES 256-bit Hardware Encryption',\n",
       "  'answwer': 'Interface: USB 3.2 Gen 1, Connector: Type-A, Type-C, Capacities: Type-A: 8GB 16GB 32GB 64GB 128GB, Type-C: 8GB 16GB 32GB 64GB 128GB 256GB, Speed: USB 3.2 Gen 1 - Type-A: 145MB/s read, 115MB/s write; Type-C: 8GB – 32GB: 145MB/s read, 115MB/s write; 64GB – 256GB: 280MB/s read 200MB/s write USB 2.0 - 8GB: 30MB/s read 12MB/s write 16GB – 128GB: 30MB/s read 20MB/s write, Dimensions (drive with sleeve): 80mm x 20mm x 11mm, Dimensions (drive without sleeve): Type-A: 78mm x 18mm x 8mm; Type-C: 74mm x 18mm x 8mm, Security certifications: FIPS 140-3 Level 3, Waterproof/Dustproof: Certified to IP57 rating, Operating temperature: 0°C to 50°C, Storage temperature: -20°C to 60°C, Compatibility: USB 3.0/USB 3.1/USB 3.2 Gen 1, Minimum system requirements: USB 3.0 compliant and 2.0 compatible, Warranty/support: 3-year warranty, free technical support, Compatible with: OS-independent: Microsoft Windows® macOS® Linux® Chrome OS™ Android ™5 or any system that supports a USB mass storage device.'},\n",
       " {'question': 'Tell me the specification for Kingston IronKey Locker+ 50 USB Flash Drive XTS-AES Encrypted for Data Protection with Automatic USBtoCloud® Back Up',\n",
       "  'answer': 'Interface: USB 3.2 Gen 1, Capacities: 16GB 32GB 64GB 128GB, Connector: Type-A, Speed: USB 3.2 Gen 1 - 16GB – 128GB: 145MB/s read 115MB/s write USB 2.0 - 16GB – 128GB: 30MB/s read 20MB/s write, Cloud Services Supported: Google Drive™ OneDrive (Microsoft) Amazon S3 Dropbox™ Box, Dimensions: 60.56mm x 18.6 mm x 9.75 mm, Operating Temperature: 0°C to 50°C, Storage Temperature: -20°C to 85°C, Compatibility: USB 3.0/USB 3.1/USB 3.2 Gen 1, Minimum system requirements: Two (2) free consecutive drive letters required for use, Warranty/support: Limited 5-year warranty, free technical support. A 5-year licence (upon activation) to USBtoCloud is included with every IKLP50 drive. Upon expiration of software licence, USBtoCloud offers licensing options directly from ClevX, Compatible with: Windows® 11 10 8.1 macOS® (v. 10.14.x - 12.x.x).'},\n",
       " {'question': 'Tell me the specification for Kingston IronKey S1000 Encrypted USB Flash Drive On-Device Cryptochip and FIPS 140-2 Level 3 Certified',\n",
       "  'answer': 'Interface: USB 3.0, Capacities: 4GB 8GB 16GB 32GB 64GB 128GB, Speed: USB 3.0 - 4GB-32GB 180MB/s read 80MB/s write 64GB: 230MB/s read 160MB/s write 128GB: 230MB/s read 240MB/s write USB 2.0 - 4GB-128GB 40MB/s read 35MB/s write, Dimensions: 82.3mm x 21.1mm x 9.1mm, Waterproof: Up to 3 ft; MIL-STD-810F, Operating Temperature: 0°C to 70°C, Storage Temperature: -40°C to 85°C, Minimum System Requirements: USB 3.0 compliant and 2.0 compatible Two (2) free drive letters required for use SafeConsole management service Licence required (Enterprise version only), Compatibility: USB 3.0 compliant and 2.0 compatible, Warranty/support: 5-year warranty free technical support, Basic model compatible with: Windows® 10 Windows 8.1 Windows 8 MacOS (v. 10.12.x - 10.15.x) Linux (Kernel v.4.4.x +) Enterprise model compatible with: Windows® 10 Windows 8.1 Windows 8 MacOS (v. 10.12.x - 10.15.x) Linux (Kernel v.4.4.x +).'},\n",
       " {'question': 'Tell me the specification for Kingston IronKey Vault Privacy 50 Series FIPS 197 Certified & XTS-AES 256-bit Encrypted USB Drive for Data Protection',\n",
       "  'answer': 'Interface: USB 3.2 Gen 1, Capacities: 8GB 16GB 32GB 64GB 128GB 256GB, Connector: Type-A Type-C, Speed: USB 3.2 Gen 1 - 8GB – 128GB: 250MB/s read 180MB/s write 256GB: 230MB/s read 150MB/s write USB 2.0 - 8GB – 256GB: 30MB/s read 20MB/s write, Dimensions: 77.9 mm x 21.9 mm x 12.0 mm, Security certifications: FIPS 197 Approved Security by SySS GmbH (penetration tested for enterprise-grade security), Waterproof: Up to 4 ft; IEC 60529 IPX8, Operating Temperature: 0°C to 50°C, Storage Temperature: -20°C to 85°C, Compatibility: USB 3.0/USB 3.1/USB 3.2 Gen 1, Warranty/support: Limited 5-year warranty, free technical support, Compatible with: Windows® 11 10 macOS® 10.15.x – 13.x.'}]"
      ]
     },
     "execution_count": 25,
     "metadata": {},
     "output_type": "execute_result"
    }
   ],
   "source": [
    "data['questions']"
   ]
  },
  {
   "cell_type": "code",
   "execution_count": 26,
   "metadata": {},
   "outputs": [],
   "source": [
    "tokenizer = AutoTokenizer.from_pretrained(\"microsoft/DialoGPT-large\", padding='left')"
   ]
  },
  {
   "cell_type": "code",
   "execution_count": 27,
   "metadata": {},
   "outputs": [],
   "source": [
    "tokenizer.pad_token = tokenizer.eos_token"
   ]
  },
  {
   "cell_type": "code",
   "execution_count": 7,
   "metadata": {},
   "outputs": [],
   "source": [
    "# formatted_data = []\n",
    "\n",
    "# for item in data[\"questions\"]:\n",
    "#     context = item[\"question\"]\n",
    "#     response = item[\"answer\"]\n",
    "    \n",
    "#     # Format as conversational input\n",
    "#     input_text = f\"User: {context}\\nAssistant: {response}\"\n",
    "#     input_ids = tokenizer.encode(input_text, add_special_tokens=True)\n",
    "    \n",
    "#     formatted_data.append({\"input_ids\": input_ids})"
   ]
  },
  {
   "cell_type": "code",
   "execution_count": 28,
   "metadata": {},
   "outputs": [],
   "source": [
    "dataset = Dataset.from_dict(data)"
   ]
  },
  {
   "cell_type": "code",
   "execution_count": 29,
   "metadata": {},
   "outputs": [
    {
     "data": {
      "text/plain": [
       "Dataset({\n",
       "    features: ['questions'],\n",
       "    num_rows: 110\n",
       "})"
      ]
     },
     "execution_count": 29,
     "metadata": {},
     "output_type": "execute_result"
    }
   ],
   "source": [
    "dataset"
   ]
  },
  {
   "cell_type": "code",
   "execution_count": 30,
   "metadata": {},
   "outputs": [],
   "source": [
    "def encode_data(data, tokenizer):\n",
    "    # building dialog\n",
    "    dialog_responses = [\n",
    "        f\"User: {question_answer['question']}\\nAssistant: {question_answer['answer']}\" \n",
    "        for question_answer in data['questions']\n",
    "    ]\n",
    "\n",
    "\n",
    "    encoded_inputs = tokenizer(\n",
    "        dialog_responses,\n",
    "        padding='max_length', # Pads the sequences to the maximum length in the batch.\n",
    "        truncation=True, # Truncates sequences that exceed the maximum length.\n",
    "        max_length=512, # Sets the maximum length of the encoded sequences.\n",
    "        return_tensors='pt' # Set output to be pytorch tensor, tf for tensor flow, pt for pytorch\n",
    "    )\n",
    "\n",
    "\n",
    "    input_ids = encoded_inputs['input_ids']\n",
    "    attention_mask = encoded_inputs['attention_mask']\n",
    "\n",
    "    # Output format\n",
    "    return {\n",
    "        'input_ids': input_ids,\n",
    "        'attention_mask': attention_mask,\n",
    "        'labels': input_ids\n",
    "    }"
   ]
  },
  {
   "cell_type": "code",
   "execution_count": 31,
   "metadata": {},
   "outputs": [
    {
     "data": {
      "application/vnd.jupyter.widget-view+json": {
       "model_id": "519208dff07b497e87067141b2f79cd3",
       "version_major": 2,
       "version_minor": 0
      },
      "text/plain": [
       "Map:   0%|          | 0/110 [00:00<?, ? examples/s]"
      ]
     },
     "metadata": {},
     "output_type": "display_data"
    }
   ],
   "source": [
    "# encoded_dataset = dataset.map(encode_data, batched=True, batch_size=8)\n",
    "\n",
    "encoded_dataset = dataset.map(encode_data, batched=True, batch_size=8, fn_kwargs={'tokenizer': tokenizer})"
   ]
  },
  {
   "cell_type": "code",
   "execution_count": 32,
   "metadata": {},
   "outputs": [
    {
     "data": {
      "text/plain": [
       "Dataset({\n",
       "    features: ['questions', 'input_ids', 'attention_mask', 'labels'],\n",
       "    num_rows: 110\n",
       "})"
      ]
     },
     "execution_count": 32,
     "metadata": {},
     "output_type": "execute_result"
    }
   ],
   "source": [
    "encoded_dataset"
   ]
  },
  {
   "cell_type": "code",
   "execution_count": 33,
   "metadata": {},
   "outputs": [
    {
     "data": {
      "text/plain": [
       "datasets.arrow_dataset.Dataset"
      ]
     },
     "execution_count": 33,
     "metadata": {},
     "output_type": "execute_result"
    }
   ],
   "source": [
    "type(encoded_dataset)"
   ]
  },
  {
   "cell_type": "code",
   "execution_count": 34,
   "metadata": {},
   "outputs": [
    {
     "data": {
      "application/vnd.jupyter.widget-view+json": {
       "model_id": "1f28fce1384b497e821a867c6e4d1ff8",
       "version_major": 2,
       "version_minor": 0
      },
      "text/plain": [
       "Creating json from Arrow format:   0%|          | 0/1 [00:00<?, ?ba/s]"
      ]
     },
     "metadata": {},
     "output_type": "display_data"
    },
    {
     "data": {
      "text/plain": [
       "810837"
      ]
     },
     "execution_count": 34,
     "metadata": {},
     "output_type": "execute_result"
    }
   ],
   "source": [
    "encoded_dataset.to_json(\"Dataset/Encoded_Ecommerce_FAQ_Chatbot_dataset.json\")"
   ]
  },
  {
   "cell_type": "code",
   "execution_count": null,
   "metadata": {},
   "outputs": [],
   "source": [
    "# # example load json from datasets.arrow_dataset.Dataset object\n",
    "\n",
    "# from datasets import load_dataset \n",
    "\n",
    "# encoded_dataset = load_dataset('json', data_files=\"Dataset/Encoded_Ecommerce_FAQ_Chatbot_dataset.json\")"
   ]
  }
 ],
 "metadata": {
  "kernelspec": {
   "display_name": "chatterbot_env_python",
   "language": "python",
   "name": "python3"
  },
  "language_info": {
   "codemirror_mode": {
    "name": "ipython",
    "version": 3
   },
   "file_extension": ".py",
   "mimetype": "text/x-python",
   "name": "python",
   "nbconvert_exporter": "python",
   "pygments_lexer": "ipython3",
   "version": "3.7.9"
  },
  "orig_nbformat": 4
 },
 "nbformat": 4,
 "nbformat_minor": 2
}
